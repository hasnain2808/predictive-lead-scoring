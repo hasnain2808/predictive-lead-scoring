{
 "cells": [
  {
   "cell_type": "code",
   "execution_count": 2,
   "metadata": {
    "ExecuteTime": {
     "end_time": "2018-03-30T02:52:26.123962Z",
     "start_time": "2018-03-30T02:52:20.457436Z"
    }
   },
   "outputs": [],
   "source": [
    "import numpy as np\n",
    "import pandas as pd\n",
    "\n",
    "from sklearn.svm import SVC\n",
    "from sklearn.preprocessing import Imputer\n",
    "from sklearn.model_selection import cross_val_score\n",
    "\n",
    "DATA = 'dataset/loan_one_hot_encoded.csv'"
   ]
  },
  {
   "cell_type": "code",
   "execution_count": 3,
   "metadata": {
    "ExecuteTime": {
     "end_time": "2018-03-30T02:52:26.217863Z",
     "start_time": "2018-03-30T02:52:26.126714Z"
    }
   },
   "outputs": [],
   "source": [
    "df = pd.read_csv(DATA)\n",
    "Y = df['loan_created']\n",
    "X = df.drop('loan_created', axis=1)"
   ]
  },
  {
   "cell_type": "markdown",
   "metadata": {},
   "source": [
    "Things to-do:\n",
    "\n",
    "- [ ] The data is missing values; use Imputer to fill mean/median of the column\n",
    "    - [ ] Create another column to denote whether the data was imputed or not; I've read that it seems to have better results\n",
    "- [ ] Set class_weights in SVM\n",
    "- [ ] Tune hyperparameters\n",
    "- [ ] Specific kernel? \n",
    "\n",
    "What to do about skewed data:\n",
    "- See as an anamoly detection problem?\n",
    "- class weights (for SVM)\n",
    "- Remove training data (less data anyway..:( )\n"
   ]
  },
  {
   "cell_type": "code",
   "execution_count": 4,
   "metadata": {
    "ExecuteTime": {
     "end_time": "2018-03-30T02:52:26.232491Z",
     "start_time": "2018-03-30T02:52:26.220908Z"
    }
   },
   "outputs": [],
   "source": [
    "imp = Imputer()\n",
    "imputed_X = imp.fit_transform(X)"
   ]
  },
  {
   "cell_type": "code",
   "execution_count": 5,
   "metadata": {
    "ExecuteTime": {
     "end_time": "2018-03-30T02:52:26.265969Z",
     "start_time": "2018-03-30T02:52:26.236615Z"
    }
   },
   "outputs": [
    {
     "data": {
      "text/plain": [
       "(230, 242)"
      ]
     },
     "execution_count": 5,
     "metadata": {},
     "output_type": "execute_result"
    }
   ],
   "source": [
    "imputed_X.shape"
   ]
  },
  {
   "cell_type": "code",
   "execution_count": 6,
   "metadata": {
    "ExecuteTime": {
     "end_time": "2018-03-30T02:52:26.318157Z",
     "start_time": "2018-03-30T02:52:26.309681Z"
    }
   },
   "outputs": [],
   "source": [
    "reverse_Y = Y.apply(lambda x: 0 if x == 1 else 1)"
   ]
  },
  {
   "cell_type": "code",
   "execution_count": 16,
   "metadata": {
    "ExecuteTime": {
     "end_time": "2018-03-30T02:59:30.858463Z",
     "start_time": "2018-03-30T02:59:24.546697Z"
    }
   },
   "outputs": [
    {
     "name": "stdout",
     "output_type": "stream",
     "text": [
      "[ 0.92307692  0.8974359   0.8974359   0.84210526  0.92105263  0.89189189]\n",
      "[ 0.92307692  0.8974359   0.8974359   0.84210526  0.92105263  0.89189189]\n"
     ]
    }
   ],
   "source": [
    "k_fold = 6\n",
    "clf_params = {\n",
    "    'class_weight': 'balanced',\n",
    "#     'kernel': 'linear',\n",
    "    'C': 10,\n",
    "#     'degree': 3, \n",
    "#     'gamma': 'auto',\n",
    "}\n",
    "\n",
    "clf1 = SVC(kernel='poly', class_weight='balanced')\n",
    "clf2 = SVC(kernel='poly', class_weight='balanced')\n",
    "\n",
    "scores1 = cross_val_score(clf1, imputed_X, Y, cv=k_fold)\n",
    "scores2 = cross_val_score(clf2, imputed_X, reverse_Y, cv=k_fold)\n",
    "print(scores1)\n",
    "print(scores2)"
   ]
  },
  {
   "cell_type": "code",
   "execution_count": 14,
   "metadata": {
    "ExecuteTime": {
     "end_time": "2018-03-30T02:57:46.841564Z",
     "start_time": "2018-03-30T02:57:46.834038Z"
    }
   },
   "outputs": [
    {
     "data": {
      "text/plain": [
       "array([  0.52036199,  12.77777778])"
      ]
     },
     "execution_count": 14,
     "metadata": {},
     "output_type": "execute_result"
    }
   ],
   "source": [
    "# n_samples / (n_classes * np.bincount(y))\n",
    "X.shape[0] / (2*np.bincount(Y))"
   ]
  },
  {
   "cell_type": "code",
   "execution_count": null,
   "metadata": {},
   "outputs": [],
   "source": []
  }
 ],
 "metadata": {
  "kernelspec": {
   "display_name": "Python 3",
   "language": "python",
   "name": "python3"
  },
  "language_info": {
   "codemirror_mode": {
    "name": "ipython",
    "version": 3
   },
   "file_extension": ".py",
   "mimetype": "text/x-python",
   "name": "python",
   "nbconvert_exporter": "python",
   "pygments_lexer": "ipython3",
   "version": "3.6.4"
  }
 },
 "nbformat": 4,
 "nbformat_minor": 2
}
